{
 "cells": [
  {
   "cell_type": "code",
   "execution_count": 1,
   "metadata": {
    "collapsed": false,
    "deletable": true,
    "editable": true
   },
   "outputs": [],
   "source": [
    "from github import Github\n",
    "\n",
    "# Change 1 to your secret number here:\n",
    "g = Github('{:x}'.format(70128043021720420409234041457358076613456008243652709 // 1))"
   ]
  },
  {
   "cell_type": "code",
   "execution_count": 2,
   "metadata": {
    "collapsed": false,
    "deletable": true,
    "editable": true
   },
   "outputs": [
    {
     "name": "stdout",
     "output_type": "stream",
     "text": [
      "AlexandreDecan/sismic\n",
      "702 commits\n",
      "3 comments\n",
      "2 open issues\n",
      "0 pulls\n"
     ]
    }
   ],
   "source": [
    "r = g.get_repo('AlexandreDecan/Sismic')\n",
    "\n",
    "print(r.full_name)\n",
    "print(len(list(r.get_commits())), 'commits')\n",
    "print(len(list(r.get_comments())), 'comments')\n",
    "print(len(list(r.get_issues())), 'open issues')\n",
    "print(len(list(r.get_pulls())), 'pulls')"
   ]
  },
  {
   "cell_type": "code",
   "execution_count": 3,
   "metadata": {
    "collapsed": false,
    "deletable": true,
    "editable": true
   },
   "outputs": [
    {
     "name": "stdout",
     "output_type": "stream",
     "text": [
      "53 issues including 30 pulls\n"
     ]
    }
   ],
   "source": [
    "print(len(list(r.get_issues(state='all'))), 'issues including', end=' ')\n",
    "print(len(list(r.get_pulls(state='all'))), 'pulls')"
   ]
  },
  {
   "cell_type": "code",
   "execution_count": 12,
   "metadata": {
    "collapsed": true,
    "deletable": true,
    "editable": true
   },
   "outputs": [],
   "source": [
    "pulls = list(r.get_pulls(state='all'))"
   ]
  },
  {
   "cell_type": "code",
   "execution_count": 21,
   "metadata": {
    "collapsed": false,
    "deletable": true,
    "editable": true
   },
   "outputs": [
    {
     "name": "stdout",
     "output_type": "stream",
     "text": [
      "34 Fixes #33 2016-01-25 16:53:31 NamedUser(login=\"mgoeminne\") 6 closed 2016-01-28 13:58:17 None None\n"
     ]
    },
    {
     "data": {
      "text/plain": [
       "[]"
      ]
     },
     "execution_count": 21,
     "metadata": {},
     "output_type": "execute_result"
    }
   ],
   "source": [
    "pull = r.get_pull(34)\n",
    "print(pull.number, pull.title, pull.created_at, pull.user, pull.commits, pull.state, \n",
    " pull.closed_at, pull.merged_by, pull.merged_at)"
   ]
  },
  {
   "cell_type": "code",
   "execution_count": 22,
   "metadata": {
    "collapsed": false,
    "deletable": true,
    "editable": true
   },
   "outputs": [
    {
     "data": {
      "text/plain": [
       "(0, 7)"
      ]
     },
     "execution_count": 22,
     "metadata": {},
     "output_type": "execute_result"
    }
   ],
   "source": [
    "len(list(r.get_pull(34).get_comments())), len(list(r.get_issue(34).get_comments()))"
   ]
  },
  {
   "cell_type": "code",
   "execution_count": 4,
   "metadata": {
    "collapsed": false,
    "deletable": true,
    "editable": true
   },
   "outputs": [],
   "source": [
    "issues = list(r.get_issues(state='all'))  "
   ]
  },
  {
   "cell_type": "code",
   "execution_count": 16,
   "metadata": {
    "collapsed": false,
    "deletable": true,
    "editable": true
   },
   "outputs": [
    {
     "name": "stdout",
     "output_type": "stream",
     "text": [
      "53 Initial Update closed pyup-bot 2017-01-14 10:12:38 2017-01-14 10:13:32 NamedUser(login=\"AlexandreDecan\")\n",
      "52 Alternative to pykwalify closed crdoconnor 2016-09-03 13:21:55 2016-09-06 08:50:51 NamedUser(login=\"AlexandreDecan\")\n",
      "51 Move Story from \"stories\" to \"interpreter.helpers\"? open AlexandreDecan 2016-08-05 11:32:21 None None\n",
      "50 Obtaining statechart coverage information from a trace closed AlexandreDecan 2016-08-05 11:28:16 2016-08-08 08:33:54 NamedUser(login=\"AlexandreDecan\")\n",
      "49 Update contract.rst closed tommens 2016-06-06 13:31:55 2016-06-07 07:08:54 NamedUser(login=\"AlexandreDecan\")\n",
      "48 use % formatter closed EdwardBetts 2016-04-16 12:35:44 2016-04-17 07:44:29 NamedUser(login=\"AlexandreDecan\")\n",
      "47 Support type hinting from Python 3.5+ closed AlexandreDecan 2016-04-07 14:56:45 2016-04-14 08:16:45 NamedUser(login=\"AlexandreDecan\")\n",
      "46 Basic support for JS closed AlexandreDecan 2016-04-06 07:39:52 2016-04-19 13:24:42 NamedUser(login=\"AlexandreDecan\")\n",
      "45 Tester builder integration closed mgoeminne 2016-03-02 13:43:47 2016-03-03 09:40:50 NamedUser(login=\"AlexandreDecan\")\n",
      "44 Temporal tester statechart generator closed mgoeminne 2016-02-28 16:51:13 2016-02-29 13:13:41 NamedUser(login=\"AlexandreDecan\")\n",
      "43 Sismic tester generator closed mgoeminne 2016-02-28 11:21:15 2016-02-28 12:15:41 NamedUser(login=\"AlexandreDecan\")\n",
      "42 Add a tester statecharts generator closed mgoeminne 2016-02-28 09:06:15 2016-02-28 12:15:49 NamedUser(login=\"AlexandreDecan\")\n",
      "41 Add a tester statecharts generator closed mgoeminne 2016-02-27 21:58:13 2016-02-28 08:53:53 NamedUser(login=\"AlexandreDecan\")\n",
      "40 Set devel up to date closed AlexandreDecan 2016-02-25 08:10:05 2016-02-25 08:10:11 NamedUser(login=\"AlexandreDecan\")\n",
      "39 A story must be told to an interpreter, instead of a statechart. closed mgoeminne 2016-02-25 07:30:06 2016-02-25 07:32:15 NamedUser(login=\"AlexandreDecan\")\n",
      "38 FrozenContext should raise an AttributeError closed AlexandreDecan 2016-02-10 17:20:50 2016-02-10 19:16:19 NamedUser(login=\"AlexandreDecan\")\n",
      "37 Support for coverage metrics closed tommens 2016-02-08 15:40:10 2016-02-10 19:16:20 NamedUser(login=\"AlexandreDecan\")\n",
      "36 Update behavior.rst closed tommens 2016-02-03 09:13:36 2016-02-03 13:25:53 NamedUser(login=\"AlexandreDecan\")\n",
      "35 story generator based on mutation closed aliparsai 2016-01-27 14:23:44 2016-02-03 13:56:43 NamedUser(login=\"AlexandreDecan\")\n",
      "34 Fixes #33 closed mgoeminne 2016-01-25 16:53:31 2016-01-28 13:58:17 NamedUser(login=\"AlexandreDecan\")\n",
      "33 Textual representation of a statechart hierarchy closed mgoeminne 2016-01-25 15:27:29 2016-01-28 13:56:51 NamedUser(login=\"AlexandreDecan\")\n",
      "32 Fix typo in the doc closed mgoeminne 2016-01-23 13:58:10 2016-01-23 13:59:10 NamedUser(login=\"AlexandreDecan\")\n",
      "31 initial state change closed aliparsai 2016-01-19 14:05:28 2016-01-19 15:41:02 NamedUser(login=\"AlexandreDecan\")\n",
      "30 validate() closed aliparsai 2016-01-19 14:03:03 2016-01-19 15:02:25 NamedUser(login=\"AlexandreDecan\")\n",
      "29 Fix incorrect command for running unit tests closed mgoeminne 2016-01-19 13:45:27 2016-01-19 13:48:21 NamedUser(login=\"AlexandreDecan\")\n",
      "28 Mutation testing closed aliparsai 2016-01-19 12:14:29 2016-01-19 15:40:35 NamedUser(login=\"AlexandreDecan\")\n",
      "27 update of stopwatch images closed tommens 2016-01-18 20:31:33 2016-01-18 20:34:15 NamedUser(login=\"AlexandreDecan\")\n",
      "26 Mutation based testing closed aliparsai 2016-01-18 16:30:10 2016-01-19 11:52:00 NamedUser(login=\"aliparsai\")\n",
      "25 Explain in the documentation how to construct a statechart using Python closed AlexandreDecan 2016-01-18 13:40:51 2016-07-05 07:41:11 NamedUser(login=\"AlexandreDecan\")\n",
      "24 A *todo* list of many \"minor\" changes (with big impact) closed AlexandreDecan 2016-01-17 17:04:23 2016-01-18 13:58:46 NamedUser(login=\"AlexandreDecan\")\n",
      "23 New exceptions hierarchy closed AlexandreDecan 2016-01-16 14:13:43 2016-01-17 19:54:34 NamedUser(login=\"AlexandreDecan\")\n",
      "22 Avoid using ``AssertionError`` in ``validate()`` closed AlexandreDecan 2016-01-16 12:23:37 2016-01-17 19:23:50 NamedUser(login=\"AlexandreDecan\")\n",
      "21 Style checker for statecharts closed tommens 2016-01-16 08:56:05 2016-02-10 08:34:15 NamedUser(login=\"AlexandreDecan\")\n",
      "20 Make a clear distinction between internal and external events closed AlexandreDecan 2016-01-13 11:35:16 2016-01-14 10:59:38 NamedUser(login=\"AlexandreDecan\")\n",
      "19 Function ``story_from_trace`` should ignore internal events closed AlexandreDecan 2016-01-13 10:09:47 2016-01-14 10:59:38 NamedUser(login=\"AlexandreDecan\")\n",
      "18 Possible confusion with *send* function closed tommens 2016-01-12 10:05:04 2016-01-12 12:16:55 NamedUser(login=\"AlexandreDecan\")\n",
      "17 Provide support for automatic test generation for statecharts closed tommens 2016-01-11 21:30:12 2016-02-03 13:57:32 NamedUser(login=\"AlexandreDecan\")\n",
      "16 cleanup stopwatch statechart images closed tommens 2016-01-11 21:26:55 2016-01-12 07:41:38 NamedUser(login=\"AlexandreDecan\")\n",
      "15 fixed a typo and some formatting closed evdokim 2016-01-11 20:48:55 2016-01-11 20:55:01 NamedUser(login=\"AlexandreDecan\")\n",
      "14 Restructure documentation closed tommens 2016-01-10 15:58:54 2016-01-10 19:45:05 NamedUser(login=\"AlexandreDecan\")\n",
      "13 updated integrate_code.rst to include 3 different statechart images of stopwatch closed tommens 2016-01-10 11:56:45 2016-01-10 19:42:09 NamedUser(login=\"AlexandreDecan\")\n",
      "12 Support for visualising statecharts open tommens 2016-01-09 14:59:17 None None\n",
      "11 statechart image added closed tommens 2016-01-08 16:24:19 2016-01-10 08:49:49 NamedUser(login=\"AlexandreDecan\")\n",
      "10 Add a screenshot for the stopwatch example closed AlexandreDecan 2016-01-07 16:55:55 2016-01-08 13:03:09 NamedUser(login=\"AlexandreDecan\")\n",
      "9 Provide a simple Python example, with GUI, using a sismic interpreter as backend closed tommens 2016-01-06 18:00:03 2016-01-07 16:11:24 NamedUser(login=\"AlexandreDecan\")\n",
      "8 Update stories.rst closed tommens 2016-01-06 17:49:48 2016-01-06 18:44:40 NamedUser(login=\"AlexandreDecan\")\n",
      "7 Update testing.rst closed tommens 2015-12-29 22:54:51 2015-12-30 10:05:13 NamedUser(login=\"AlexandreDecan\")\n",
      "6 Update index.rst closed tommens 2015-12-29 22:26:25 2015-12-30 09:45:16 NamedUser(login=\"AlexandreDecan\")\n",
      "5 Update format.rst closed tommens 2015-12-29 22:21:50 2015-12-30 09:52:38 NamedUser(login=\"AlexandreDecan\")\n",
      "4 Update execution.rst closed tommens 2015-12-29 22:20:51 2015-12-30 09:59:04 NamedUser(login=\"AlexandreDecan\")\n",
      "3 Update contract.rst closed tommens 2015-12-29 22:20:16 2015-12-30 10:03:45 NamedUser(login=\"AlexandreDecan\")\n",
      "2 Update evaluation.rst closed tommens 2015-12-29 22:19:43 2015-12-30 09:59:42 NamedUser(login=\"AlexandreDecan\")\n",
      "1 Update index.rst closed tommens 2015-12-12 16:49:02 2015-12-13 09:47:35 NamedUser(login=\"AlexandreDecan\")\n"
     ]
    }
   ],
   "source": [
    "for issue in issues: \n",
    "    print(issue.number, issue.title, issue.state, issue.user.login, issue.created_at, issue.closed_at, issue.closed_by)"
   ]
  },
  {
   "cell_type": "code",
   "execution_count": 52,
   "metadata": {
    "collapsed": false,
    "deletable": true,
    "editable": true
   },
   "outputs": [
    {
     "data": {
      "text/plain": [
       "'sismic'"
      ]
     },
     "execution_count": 52,
     "metadata": {},
     "output_type": "execute_result"
    }
   ],
   "source": [
    "r.name"
   ]
  },
  {
   "cell_type": "code",
   "execution_count": 23,
   "metadata": {
    "collapsed": false,
    "deletable": true,
    "editable": true
   },
   "outputs": [],
   "source": [
    "pr, issue = r.get_issue(34), r.get_issue(51)"
   ]
  },
  {
   "cell_type": "code",
   "execution_count": 63,
   "metadata": {
    "collapsed": false,
    "deletable": true,
    "editable": true
   },
   "outputs": [
    {
     "data": {
      "text/plain": [
       "(<github.IssuePullRequest.IssuePullRequest at 0x7f4bbc3228d0>, None)"
      ]
     },
     "execution_count": 63,
     "metadata": {},
     "output_type": "execute_result"
    }
   ],
   "source": [
    "pr.pull_request, issue.pull_request"
   ]
  },
  {
   "cell_type": "code",
   "execution_count": 51,
   "metadata": {
    "collapsed": false,
    "deletable": true,
    "editable": true
   },
   "outputs": [
    {
     "name": "stdout",
     "output_type": "stream",
     "text": [
      "Got %d\n",
      "NamedUser(login=\"pyup-bot\")\n",
      "pyup-bot\n",
      "closed\n",
      "2017-01-14 10:12:38\n",
      "2017-01-14 10:13:32\n",
      "AlexandreDecan\n",
      "-\n",
      "Got %d\n",
      "NamedUser(login=\"crdoconnor\")\n",
      "crdoconnor\n",
      "closed\n",
      "2016-09-03 13:21:55\n",
      "2016-09-06 08:50:51\n",
      "AlexandreDecan\n",
      "-\n",
      "Got %d\n",
      "NamedUser(login=\"AlexandreDecan\")\n",
      "AlexandreDecan\n",
      "open\n",
      "2016-08-05 11:32:21\n",
      "None\n"
     ]
    },
    {
     "ename": "AttributeError",
     "evalue": "'NoneType' object has no attribute 'get'",
     "output_type": "error",
     "traceback": [
      "\u001b[0;31m---------------------------------------------------------------------------\u001b[0m",
      "\u001b[0;31mAttributeError\u001b[0m                            Traceback (most recent call last)",
      "\u001b[0;32m<ipython-input-51-e79451fe4599>\u001b[0m in \u001b[0;36m<module>\u001b[0;34m()\u001b[0m\n\u001b[1;32m      6\u001b[0m     \u001b[0mprint\u001b[0m\u001b[0;34m(\u001b[0m\u001b[0missue\u001b[0m\u001b[0;34m.\u001b[0m\u001b[0mcreated_at\u001b[0m\u001b[0;34m)\u001b[0m\u001b[0;34m\u001b[0m\u001b[0m\n\u001b[1;32m      7\u001b[0m     \u001b[0mprint\u001b[0m\u001b[0;34m(\u001b[0m\u001b[0missue\u001b[0m\u001b[0;34m.\u001b[0m\u001b[0mclosed_at\u001b[0m\u001b[0;34m)\u001b[0m\u001b[0;34m\u001b[0m\u001b[0m\n\u001b[0;32m----> 8\u001b[0;31m     \u001b[0mprint\u001b[0m\u001b[0;34m(\u001b[0m\u001b[0missue\u001b[0m\u001b[0;34m.\u001b[0m\u001b[0mraw_data\u001b[0m\u001b[0;34m.\u001b[0m\u001b[0mget\u001b[0m\u001b[0;34m(\u001b[0m\u001b[0;34m'closed_by'\u001b[0m\u001b[0;34m,\u001b[0m \u001b[0;34m{\u001b[0m\u001b[0;34m}\u001b[0m\u001b[0;34m)\u001b[0m\u001b[0;34m.\u001b[0m\u001b[0mget\u001b[0m\u001b[0;34m(\u001b[0m\u001b[0;34m'login'\u001b[0m\u001b[0;34m,\u001b[0m \u001b[0;32mNone\u001b[0m\u001b[0;34m)\u001b[0m\u001b[0;34m)\u001b[0m\u001b[0;34m\u001b[0m\u001b[0m\n\u001b[0m\u001b[1;32m      9\u001b[0m     \u001b[0mprint\u001b[0m\u001b[0;34m(\u001b[0m\u001b[0;34m'-'\u001b[0m\u001b[0;34m)\u001b[0m\u001b[0;34m\u001b[0m\u001b[0m\n\u001b[1;32m     10\u001b[0m \u001b[0;34m\u001b[0m\u001b[0m\n",
      "\u001b[0;31mAttributeError\u001b[0m: 'NoneType' object has no attribute 'get'"
     ]
    }
   ],
   "source": [
    "for issue in r.get_issues(state='all'):\n",
    "    print('Got %d'.format(issue.number))\n",
    "    print(issue.user)\n",
    "    print(issue.user.login)\n",
    "    print(issue.state)\n",
    "    print(issue.created_at)\n",
    "    print(issue.closed_at)\n",
    "    print(issue.raw_data.get('closed_by', {}).get('login', None))\n",
    "    print('-')\n",
    "    "
   ]
  },
  {
   "cell_type": "code",
   "execution_count": 50,
   "metadata": {
    "collapsed": false,
    "deletable": true,
    "editable": true
   },
   "outputs": [
    {
     "data": {
      "text/plain": [
       "{'avatar_url': 'https://avatars.githubusercontent.com/u/4992216?v=3',\n",
       " 'events_url': 'https://api.github.com/users/AlexandreDecan/events{/privacy}',\n",
       " 'followers_url': 'https://api.github.com/users/AlexandreDecan/followers',\n",
       " 'following_url': 'https://api.github.com/users/AlexandreDecan/following{/other_user}',\n",
       " 'gists_url': 'https://api.github.com/users/AlexandreDecan/gists{/gist_id}',\n",
       " 'gravatar_id': '',\n",
       " 'html_url': 'https://github.com/AlexandreDecan',\n",
       " 'id': 4992216,\n",
       " 'login': 'AlexandreDecan',\n",
       " 'organizations_url': 'https://api.github.com/users/AlexandreDecan/orgs',\n",
       " 'received_events_url': 'https://api.github.com/users/AlexandreDecan/received_events',\n",
       " 'repos_url': 'https://api.github.com/users/AlexandreDecan/repos',\n",
       " 'site_admin': False,\n",
       " 'starred_url': 'https://api.github.com/users/AlexandreDecan/starred{/owner}{/repo}',\n",
       " 'subscriptions_url': 'https://api.github.com/users/AlexandreDecan/subscriptions',\n",
       " 'type': 'User',\n",
       " 'url': 'https://api.github.com/users/AlexandreDecan'}"
      ]
     },
     "execution_count": 50,
     "metadata": {},
     "output_type": "execute_result"
    }
   ],
   "source": [
    "issue.raw_data.get('closed_by', {})"
   ]
  },
  {
   "cell_type": "code",
   "execution_count": 64,
   "metadata": {
    "collapsed": false,
    "deletable": true,
    "editable": true
   },
   "outputs": [
    {
     "data": {
      "text/plain": [
       "(4789, 5000)"
      ]
     },
     "execution_count": 64,
     "metadata": {},
     "output_type": "execute_result"
    }
   ],
   "source": [
    "g.rate_limiting"
   ]
  },
  {
   "cell_type": "code",
   "execution_count": 24,
   "metadata": {
    "collapsed": false,
    "deletable": true,
    "editable": true
   },
   "outputs": [
    {
     "name": "stdout",
     "output_type": "stream",
     "text": [
      "7\n"
     ]
    }
   ],
   "source": [
    "print(pr.comments)\n",
    "comments = list(pr.get_comments())"
   ]
  },
  {
   "cell_type": "code",
   "execution_count": 25,
   "metadata": {
    "collapsed": false,
    "deletable": true,
    "editable": true
   },
   "outputs": [
    {
     "name": "stdout",
     "output_type": "stream",
     "text": [
      "IssueComment(user=NamedUser(login=\"AlexandreDecan\"), id=174622098)\n",
      "IssueComment(user=NamedUser(login=\"mgoeminne\"), id=174920948)\n",
      "IssueComment(user=NamedUser(login=\"AlexandreDecan\"), id=174925674)\n",
      "IssueComment(user=NamedUser(login=\"AlexandreDecan\"), id=175003079)\n",
      "IssueComment(user=NamedUser(login=\"AlexandreDecan\"), id=176195809)\n",
      "IssueComment(user=NamedUser(login=\"mgoeminne\"), id=176196222)\n",
      "IssueComment(user=NamedUser(login=\"AlexandreDecan\"), id=176198742)\n"
     ]
    }
   ],
   "source": [
    "for comment in comments:\n",
    "    print(comment)"
   ]
  },
  {
   "cell_type": "code",
   "execution_count": 26,
   "metadata": {
    "collapsed": false,
    "deletable": true,
    "editable": true
   },
   "outputs": [
    {
     "data": {
      "text/plain": [
       "(datetime.datetime(2016, 1, 28, 14, 6, 5), 'AlexandreDecan', 176198742)"
      ]
     },
     "execution_count": 26,
     "metadata": {},
     "output_type": "execute_result"
    }
   ],
   "source": [
    "comment.created_at, comment.user.login, comment.id"
   ]
  },
  {
   "cell_type": "code",
   "execution_count": 46,
   "metadata": {
    "collapsed": false,
    "deletable": true,
    "editable": true
   },
   "outputs": [
    {
     "data": {
      "text/plain": [
       "(datetime.datetime(2016, 1, 28, 13, 58, 17),\n",
       " NamedUser(login=\"AlexandreDecan\"),\n",
       " 'closed')"
      ]
     },
     "execution_count": 46,
     "metadata": {},
     "output_type": "execute_result"
    }
   ],
   "source": [
    "pr.closed_at, pr.closed_by, pr.state"
   ]
  },
  {
   "cell_type": "code",
   "execution_count": 9,
   "metadata": {
    "collapsed": false,
    "deletable": true,
    "editable": true
   },
   "outputs": [
    {
     "data": {
      "text/plain": [
       "[Commit(sha=\"46d5d35284d74ed9e104c9e7c91f955c9a4a8af8\"),\n",
       " Commit(sha=\"080ed2c5a4184a25861605c5132c5e16f3af57d9\"),\n",
       " Commit(sha=\"ce65d27b613bf2ff645655ab4487d2af3079c1a6\"),\n",
       " Commit(sha=\"cc487ca3d9b9b6a110312a8e0fc96677d6231908\"),\n",
       " Commit(sha=\"733c196e65e9d19616f18d1f0c24f57830d8a1c8\"),\n",
       " Commit(sha=\"5ebbe553e17b86446ea89a6287607aef9ae45111\"),\n",
       " Commit(sha=\"e428689e25e9218e26a6732f268654568a4dc367\"),\n",
       " Commit(sha=\"cc2c709bcb915123a03cddd7f13796348f13ecd9\"),\n",
       " Commit(sha=\"9e4ad6f3657bccd866b393de51e5d37c20d998db\"),\n",
       " Commit(sha=\"4828a987cdbd5f8b0b38933b2e4b0dd9dbe61096\"),\n",
       " Commit(sha=\"013ff9bb0fdadf787c6845a6ae74fd4f90e82b26\"),\n",
       " Commit(sha=\"38918edb1bd96023ef2f5ef076cabcb8363b8c01\"),\n",
       " Commit(sha=\"accf6a0c37e6a1a3c0cd716f12386e3eedec760e\"),\n",
       " Commit(sha=\"fd755f84f1f0f8917f808a809f4789293eac3751\"),\n",
       " Commit(sha=\"112edeb0f5857c40579e5679c01412b4fe94dfc3\"),\n",
       " Commit(sha=\"3d430843bf3f1b15974eb077e98b0d4be3e5563a\"),\n",
       " Commit(sha=\"fad14238ec4921ad7b33b6825f61c22156d060c2\"),\n",
       " Commit(sha=\"b10ff1588fc549a3a6b0fc83cfccf904e3c6fdd5\"),\n",
       " Commit(sha=\"ac45305e1e0d61b1df3079768c8414a1c313330e\"),\n",
       " Commit(sha=\"918c5f3be17168ae69057734d806f2ebe63fa65f\"),\n",
       " Commit(sha=\"9c45344fa4aaa27f99b6a166101cd2eff0f321b2\"),\n",
       " Commit(sha=\"cfb908f55294a64dff93c8f81269e442462b1c96\"),\n",
       " Commit(sha=\"edc5dabbe33640edab219cc514fccaf3002903c4\"),\n",
       " Commit(sha=\"49734a96b7a2d9dc1bf43e0a10bbd84cdb8d966f\"),\n",
       " Commit(sha=\"1e78cf5239849563953c131648691856f808075f\"),\n",
       " Commit(sha=\"1e270017af4e454ed40c686eafe8de39a4c1a223\"),\n",
       " Commit(sha=\"cee8b783cb61fc8b3432334c6854414db104022c\"),\n",
       " Commit(sha=\"3afc89990f38ee68f9a472b30cd6cbb3e7819e9d\"),\n",
       " Commit(sha=\"68d2ecf5073b0f17fba2c4800c94ae55b18a0b14\"),\n",
       " Commit(sha=\"43ab9b28eb2d5b443da9765889eafee6006025ad\")]"
      ]
     },
     "execution_count": 9,
     "metadata": {},
     "output_type": "execute_result"
    }
   ],
   "source": [
    "commits = r.get_commits()\n",
    "commits.get_page(-1)  # last page, most recents first"
   ]
  },
  {
   "cell_type": "code",
   "execution_count": 11,
   "metadata": {
    "collapsed": false,
    "deletable": true,
    "editable": true
   },
   "outputs": [
    {
     "data": {
      "text/plain": [
       "(NamedUser(login=\"AlexandreDecan\"),\n",
       " NamedUser(login=\"AlexandreDecan\"),\n",
       " '46d5d35284d74ed9e104c9e7c91f955c9a4a8af8',\n",
       " datetime.datetime(2017, 2, 15, 7, 49, 23),\n",
       " datetime.datetime(2017, 2, 15, 7, 49, 23),\n",
       " 'Alexandre Decan')"
      ]
     },
     "execution_count": 11,
     "metadata": {},
     "output_type": "execute_result"
    }
   ],
   "source": [
    "commit = commits[0]\n",
    "(commit.author, commit.committer, commit.sha, \n",
    " commit.commit.author.date, commit.commit.committer.date,\n",
    " commit.commit.author.name)"
   ]
  },
  {
   "cell_type": "code",
   "execution_count": 77,
   "metadata": {
    "collapsed": false,
    "deletable": true,
    "editable": true
   },
   "outputs": [
    {
     "name": "stdout",
     "output_type": "stream",
     "text": [
      "[]\n",
      "[CommitComment(user=NamedUser(login=\"AlexandreDecan\"), id=15673288), CommitComment(user=NamedUser(login=\"AlexandreDecan\"), id=15673304), CommitComment(user=NamedUser(login=\"AlexandreDecan\"), id=15673319), CommitComment(user=NamedUser(login=\"AlexandreDecan\"), id=15673328), CommitComment(user=NamedUser(login=\"AlexandreDecan\"), id=15673347), CommitComment(user=NamedUser(login=\"AlexandreDecan\"), id=15673369), CommitComment(user=NamedUser(login=\"AlexandreDecan\"), id=15673510), CommitComment(user=NamedUser(login=\"AlexandreDecan\"), id=15673529)]\n"
     ]
    }
   ],
   "source": [
    "# commit 7309df3 has many comments\n",
    "commit = r.get_commit('7309df3')\n",
    "print(list(commit.get_comments()))\n",
    "\n",
    "# None are shown, because they were done on Mathieu's fork\n",
    "print(list(g.get_repo('mgoeminne/sismic').get_commit('7309df3').get_comments()))"
   ]
  },
  {
   "cell_type": "code",
   "execution_count": 101,
   "metadata": {
    "collapsed": false,
    "deletable": true,
    "editable": true
   },
   "outputs": [
    {
     "name": "stdout",
     "output_type": "stream",
     "text": [
      "889df9d7bbe21384cb5306d723ce881e9e716476\n",
      "092587910d99cde2062663ef3ab89538a2317921\n",
      "7309df3988f920300e43ccd3fd1edf5a1889f5d2\n",
      "CommitComment(user=NamedUser(login=\"AlexandreDecan\"), id=15673288)\n",
      "CommitComment(user=NamedUser(login=\"AlexandreDecan\"), id=15673304)\n",
      "CommitComment(user=NamedUser(login=\"AlexandreDecan\"), id=15673319)\n",
      "CommitComment(user=NamedUser(login=\"AlexandreDecan\"), id=15673328)\n",
      "CommitComment(user=NamedUser(login=\"AlexandreDecan\"), id=15673347)\n",
      "CommitComment(user=NamedUser(login=\"AlexandreDecan\"), id=15673369)\n",
      "CommitComment(user=NamedUser(login=\"AlexandreDecan\"), id=15673510)\n",
      "CommitComment(user=NamedUser(login=\"AlexandreDecan\"), id=15673529)\n",
      "10a0e80bbb8e31be4997de509697af17c5223daf\n",
      "0d959ecaf773cf40544f7f951fc8778a1cf30cf9\n",
      "bde49fdd96d674fa94972ccf046016b2339eaa1f\n"
     ]
    }
   ],
   "source": [
    "pull = r.get_pull(34)\n",
    "origin = pull.head.repo\n",
    "\n",
    "for commit in pull.get_commits():\n",
    "    print(commit.sha)\n",
    "\n",
    "    commit_origin = origin.get_commit(commit.sha)\n",
    "    for comment in commit_origin.get_comments():\n",
    "        print(comment)"
   ]
  },
  {
   "cell_type": "code",
   "execution_count": 106,
   "metadata": {
    "collapsed": false,
    "deletable": true,
    "editable": true
   },
   "outputs": [
    {
     "data": {
      "text/plain": [
       "97"
      ]
     },
     "execution_count": 106,
     "metadata": {},
     "output_type": "execute_result"
    }
   ],
   "source": [
    "pull.additions"
   ]
  },
  {
   "cell_type": "markdown",
   "metadata": {
    "deletable": true,
    "editable": true
   },
   "source": [
    "List commits\n",
    " - sha / summary / author / committer / author_date / committer_date / additions / deletions / changed_files\n",
    " - List comments\n",
    "   - id / sha / author / date / text\n",
    "\n",
    "List issues\n",
    " - id / title / created_by / created_at / closed / closed_by / closed_at / is_PR\n",
    " - List comments\n",
    "   - id / issue / author / date / text\n",
    "  \n",
    "List PR\n",
    " - issues + n_commits / merged / merged_at / merged_by / additions / deletions / changed_files"
   ]
  }
 ],
 "metadata": {
  "kernelspec": {
   "display_name": "Python 3",
   "language": "python",
   "name": "python3"
  },
  "language_info": {
   "codemirror_mode": {
    "name": "ipython",
    "version": 3
   },
   "file_extension": ".py",
   "mimetype": "text/x-python",
   "name": "python",
   "nbconvert_exporter": "python",
   "pygments_lexer": "ipython3",
   "version": "3.5.3"
  }
 },
 "nbformat": 4,
 "nbformat_minor": 2
}
